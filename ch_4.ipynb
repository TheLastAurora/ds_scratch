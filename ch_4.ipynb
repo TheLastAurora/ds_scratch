{
 "cells": [
  {
   "attachments": {},
   "cell_type": "markdown",
   "metadata": {},
   "source": [
    "# <b> Chapter 4"
   ]
  },
  {
   "cell_type": "code",
   "execution_count": 5,
   "metadata": {},
   "outputs": [],
   "source": [
    "from typing import List\n",
    "from numbers import Number\n",
    "from typing import Self\n",
    "from functools import reduce\n",
    "import matplotlib.pyplot as plt\n",
    "import random\n",
    "import numpy as np\n",
    "import math\n",
    "import matplotlib\n",
    "\n",
    "random.seed(23)"
   ]
  },
  {
   "cell_type": "code",
   "execution_count": 8,
   "metadata": {},
   "outputs": [],
   "source": [
    "# Defining functions to work with vectors\n",
    "\n",
    "# NOTE: This is NOT meant to be performatic, its meant for practicing\n",
    "# NOTE: Although Vector is a subclass of ndarray, I opted for not using its built-in methods.\n",
    "\n",
    "\n",
    "class Vector(np.ndarray):\n",
    "    \"\"\"Defines a new 1D type array (Vector)\"\"\"\n",
    "\n",
    "    def __new__(self, l: List[Number] = [], type=np.float64) -> Self:\n",
    "        \"\"\"Instatiates a new Vector, in which flattens any ndarray\"\"\"\n",
    "        obj = np.asarray(l, dtype=type).view(self)\n",
    "        if obj.ndim != 1:\n",
    "            return obj.flatten()\n",
    "        obj._direction = (0, 0)\n",
    "        return obj\n",
    "\n",
    "    def vect_sum(self, w: Self) -> Self:\n",
    "        \"\"\"Calculates the addition of two Vectors\"\"\"\n",
    "        assert len(self) == len(w), \"Vectors must have same length\"\n",
    "        z = Vector([a + b for a, b in zip(self, w)])\n",
    "        z.direction = tuple(map(sum, (zip(self.direction, w.direction))))\n",
    "        return z\n",
    "\n",
    "    def vect_dif(self, w: Self) -> Self:\n",
    "        \"\"\"Calculates the subtractaction of two Vectors\"\"\"\n",
    "        assert len(self) == len(w), \"Vectors must have same length\"\n",
    "        z = Vector([a - b for a, b in zip(self, w)])\n",
    "        z.direction = tuple(map(sum, (zip([-e for e in self.direction],  w.direction))))\n",
    "        return z\n",
    "\n",
    "    def add(self, n: Number) -> Self:\n",
    "        \"\"\"Calculates the addition of a scalar number to a Vector\"\"\"\n",
    "        assert isinstance(n, Number), \"Argument 2 must be a scalar number\"\n",
    "        return Vector([(lambda x: x + n)(x) for x in self])\n",
    "\n",
    "    def subtract(self, n: Number) -> Self:\n",
    "        \"\"\"Calculates the subtraction of a scalar number to a Vector\"\"\"\n",
    "        assert isinstance(n, Number), \"Argument 2 must be a scalar number\"\n",
    "        return Vector([(lambda x: x - n)(x) for x in self])\n",
    "\n",
    "    def multiply(self, n: Number) -> Self:\n",
    "        \"\"\"Calculates the multiplication of a scalar number to a Vector\"\"\"\n",
    "        return Vector([(lambda x: x * n)(x) for x in self])\n",
    "\n",
    "    def sum(self) -> Number:\n",
    "        \"\"\"Calculates the sum of all elements of a Vector\"\"\"\n",
    "        return sum(self)\n",
    "\n",
    "    def mean(self) -> Number:\n",
    "        \"\"\"Calculates the mean of all elements of a Vector\"\"\"\n",
    "        return self.sum() / len(self)\n",
    "\n",
    "    def dot(self, w: Self) -> Number:\n",
    "        \"\"\"Calculates v[0] * w[0] + ... + v[n] * w[n]\"\"\"\n",
    "        assert len(self) == len(w), \"Vectors must be same length\"\n",
    "        return sum(x * y for x, y in zip(self, w))\n",
    "\n",
    "    def sum_of_squares(self) -> Number:\n",
    "        \"\"\"Calculates v[0] * v[0] + ... + v[n] * v[n]\"\"\"\n",
    "        return self.dot(self)\n",
    "\n",
    "    def magnitude(self) -> Number:\n",
    "        \"\"\"Calculates the lenght of a Vector\"\"\"\n",
    "        return math.sqrt(self.sum_of_squares())\n",
    "\n",
    "    def squared_distance(self, w: Self) -> Number:\n",
    "        \"\"\"Calculates (v[1] - w[1]) ** 2 + ... + (v[n] - w[n]) ** 2\"\"\"\n",
    "        return self.sum_of_squares(self.vect_dif(w))\n",
    "\n",
    "    def distance(self, w: Self) -> Number:\n",
    "        \"\"\"Calculates the distance between two vectors\"\"\"\n",
    "        return self.vect_dif(w).magnitude()\n",
    "\n",
    "    @property\n",
    "    def direction(self):\n",
    "        return self._direction\n",
    "\n",
    "    @direction.setter\n",
    "    def direction(self, d: List[Number]) -> None:\n",
    "        try:\n",
    "            d = tuple(d)\n",
    "        except:\n",
    "            TypeError(\"Arguments are not numbers or array type\")\n",
    "        assert len(d) == 2, \"Direction only takes two arguments.\"\n",
    "        assert all(isinstance(x, Number) for x in d), \"Direction must be a Number type\"\n",
    "        self._direction = d"
   ]
  },
  {
   "attachments": {},
   "cell_type": "markdown",
   "metadata": {},
   "source": [
    "## Vectors"
   ]
  },
  {
   "cell_type": "code",
   "execution_count": 7,
   "metadata": {},
   "outputs": [
    {
     "data": {
      "image/png": "[encoded data removed]",
      "text/plain": [
       "<Figure size 640x480 with 1 Axes>"
      ]
     },
     "metadata": {},
     "output_type": "display_data"
    }
   ],
   "source": [
    "# Creating and plotting two 2D vectors\n",
    "\n",
    "v = Vector([0, 0])\n",
    "w = Vector([0, 0])\n",
    "\n",
    "v.direction = (0, 15)\n",
    "w.direction = (15, 0)\n",
    "\n",
    "\n",
    "a = v.vect_sum(w)\n",
    "b = v.vect_dif(w)\n",
    "\n",
    "fig, ax = plt.subplots()\n",
    "ax.axis([-20, 20, -20, 20])\n",
    "ax.set_xlim(-10)\n",
    "plt.quiver(*v, *v.direction, scale=50, color=\"c\")\n",
    "plt.quiver(*w, *w.direction, scale=50, color=\"orange\")\n",
    "plt.quiver(*b, *b.direction, scale=50, color=\"pink\")\n",
    "plt.quiver(*a, *a.direction, scale=50, color=\"red\")\n",
    "plt.title(\"2D Vectors\")\n",
    "plt.legend(['v', 'w', 'b (v-w)', 'a (v+w)'])\n",
    "plt.show()"
   ]
  }
 ],
 "metadata": {
  "kernelspec": {
   "display_name": ".venv",
   "language": "python",
   "name": "python3"
  },
  "language_info": {
   "codemirror_mode": {
    "name": "ipython",
    "version": 3
   },
   "file_extension": ".py",
   "mimetype": "text/x-python",
   "name": "python",
   "nbconvert_exporter": "python",
   "pygments_lexer": "ipython3",
   "version": "3.11.4"
  },
  "orig_nbformat": 4
 },
 "nbformat": 4,
 "nbformat_minor": 2
}
