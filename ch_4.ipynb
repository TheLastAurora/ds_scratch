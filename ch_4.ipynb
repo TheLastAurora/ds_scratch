{
 "cells": [
  {
   "attachments": {},
   "cell_type": "markdown",
   "metadata": {},
   "source": [
    "# <b> Chapter 4"
   ]
  },
  {
   "cell_type": "code",
   "execution_count": 118,
   "metadata": {},
   "outputs": [],
   "source": [
    "from typing import List\n",
    "from numbers import Number\n",
    "from typing import Self\n",
    "import matplotlib.pyplot as plt\n",
    "import numpy as np\n",
    "import math\n",
    "import matplotlib\n",
    "import typing"
   ]
  },
  {
   "attachments": {},
   "cell_type": "markdown",
   "metadata": {},
   "source": [
    "## Vectors"
   ]
  },
  {
   "cell_type": "code",
   "execution_count": 120,
   "metadata": {},
   "outputs": [
    {
     "ename": "IndentationError",
     "evalue": "expected an indented block after function definition on line 13 (1242326579.py, line 16)",
     "output_type": "error",
     "traceback": [
      "\u001b[0;36m  Cell \u001b[0;32mIn[120], line 16\u001b[0;36m\u001b[0m\n\u001b[0;31m    a = Vector([1, 2, 9])\u001b[0m\n\u001b[0m                         ^\u001b[0m\n\u001b[0;31mIndentationError\u001b[0m\u001b[0;31m:\u001b[0m expected an indented block after function definition on line 13\n"
     ]
    }
   ],
   "source": [
    "# Defining functions to work with vectors\n",
    "\n",
    "class Vector(np.ndarray):\n",
    "    \"\"\" Defines a new 1D type array (Vector)\"\"\"\n",
    "\n",
    "    def __new__(self, l: List[Number] = []) -> Self:\n",
    "        \"\"\"Instatiates a new Vector, in which flattens any ndarray\"\"\"\n",
    "        obj = np.asarray(l, dtype=np.number).view(self)\n",
    "        if obj.ndim != 1:\n",
    "            return obj.flatten()\n",
    "        return obj\n",
    "\n",
    "    def add(self, v: List[Self]) -> Self:\n",
    "        # Calculate the len of each Vector and assert to sum them.\n",
    "        pass\n",
    "\n",
    "a = Vector([1, 2, 9])\n",
    "a"
   ]
  }
 ],
 "metadata": {
  "kernelspec": {
   "display_name": ".venv",
   "language": "python",
   "name": "python3"
  },
  "language_info": {
   "codemirror_mode": {
    "name": "ipython",
    "version": 3
   },
   "file_extension": ".py",
   "mimetype": "text/x-python",
   "name": "python",
   "nbconvert_exporter": "python",
   "pygments_lexer": "ipython3",
   "version": "3.11.3"
  },
  "orig_nbformat": 4
 },
 "nbformat": 4,
 "nbformat_minor": 2
}
