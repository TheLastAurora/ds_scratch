{
 "cells": [
  {
   "attachments": {},
   "cell_type": "markdown",
   "metadata": {},
   "source": [
    "# <b> Chapter 5"
   ]
  },
  {
   "cell_type": "code",
   "execution_count": 177,
   "metadata": {},
   "outputs": [],
   "source": [
    "from time import perf_counter\n",
    "from collections import Counter\n",
    "from numbers import Number\n",
    "from typing import List\n",
    "import statistics\n",
    "import math\n",
    "import random\n",
    "import numpy as np\n",
    "import matplotlib.pyplot as plt\n",
    "import matplotlib\n",
    "\n",
    "random.seed(4)"
   ]
  },
  {
   "cell_type": "code",
   "execution_count": 178,
   "metadata": {},
   "outputs": [],
   "source": [
    "def time_it(times=100):\n",
    "    def outer(fn):\n",
    "        def inner(*args, **kwargs):\n",
    "            start = perf_counter()\n",
    "            for _ in range(times):\n",
    "                res = fn(*args, **kwargs)\n",
    "            return res, f\"Time elapsed: {(perf_counter() - start)/times}\"\n",
    "        return inner\n",
    "    return outer"
   ]
  },
  {
   "attachments": {},
   "cell_type": "markdown",
   "metadata": {},
   "source": [
    "## Describing a Single Set of Data"
   ]
  },
  {
   "cell_type": "code",
   "execution_count": 179,
   "metadata": {},
   "outputs": [],
   "source": [
    "# List of people with random number of friends\n",
    "\n",
    "sample_size = 500\n",
    "num_friends = np.array([random.randint(0, 20) for _ in range(sample_size)], dtype=np.int32)"
   ]
  },
  {
   "cell_type": "code",
   "execution_count": 180,
   "metadata": {},
   "outputs": [
    {
     "data": {
      "image/png": "[encoded data removed]",
      "text/plain": [
       "<Figure size 640x480 with 1 Axes>"
      ]
     },
     "metadata": {},
     "output_type": "display_data"
    }
   ],
   "source": [
    "dist = Counter(num_friends)\n",
    "\n",
    "fig, ax = plt.subplots(tight_layout=True)\n",
    "ax.bar(dist.keys(), dist.values())\n",
    "ax.set_ylabel('People')\n",
    "ax.set_xlabel('Quantity of friends')\n",
    "plt.title(\"Distribution of number of friends\")\n",
    "plt.show()"
   ]
  },
  {
   "attachments": {},
   "cell_type": "markdown",
   "metadata": {},
   "source": [
    "## Central Tendencies"
   ]
  },
  {
   "cell_type": "code",
   "execution_count": 181,
   "metadata": {},
   "outputs": [],
   "source": [
    "# Defining basic statistics\n",
    "\n",
    "\n",
    "def _is_list(fn) -> TypeError | None:\n",
    "    def inner(l, *args, **kwargs):\n",
    "        \"\"\"Checks if l is a list\"\"\"\n",
    "        if all(list(map(lambda x: isinstance(x, Number), l))):\n",
    "            return fn(l, *args, **kwargs)\n",
    "        raise TypeError(\"Argument is not of type List.\")\n",
    "    return inner\n",
    "\n",
    "\n",
    "@_is_list\n",
    "def mean(l: List[Number]) -> Number:\n",
    "    \"\"\"Calculates the mean of a l\"\"\"\n",
    "    return sum(l) / len(l)\n",
    "\n",
    "\n",
    "@_is_list\n",
    "def median(l: List[Number]) -> Number:\n",
    "    \"\"\"Calculates the median of a l\"\"\"\n",
    "    l = sorted(l)\n",
    "    def l_median(a, b): return (a + b) / 2\n",
    "    if len(l) % 2 == 0:\n",
    "        return l_median(l[int(len(l)/2)-1], l[(int(len(l)/2))])\n",
    "    return l[int(len(l)/2)]\n",
    "\n",
    "\n",
    "@_is_list\n",
    "def quantile(l: List[Number], p: float) -> List[Number]:\n",
    "    \"\"\"Calculates the 'pth' percentile (decimal) value in l.\"\"\"\n",
    "    return sorted(l)[int(p * len(l))]\n",
    "\n",
    "\n",
    "@time_it(500_000)\n",
    "@_is_list\n",
    "def mode(l: List[Number]) -> List[Number]:\n",
    "    \"\"\"Finds which are the most frequent terms from l\"\"\"\n",
    "    c = Counter(l)\n",
    "    elems = sorted(c.items(), key=lambda x: x[:][1], reverse=True)\n",
    "    MAX = max(c.values())\n",
    "    res = []\n",
    "    for i in elems:\n",
    "        if (i[1] == MAX):\n",
    "            res.append(i[0])\n",
    "        else:\n",
    "            break\n",
    "    return res"
   ]
  },
  {
   "cell_type": "markdown",
   "metadata": {},
   "source": [
    "## Dispersion"
   ]
  },
  {
   "cell_type": "code",
   "execution_count": 200,
   "metadata": {},
   "outputs": [],
   "source": [
    "# Defining more statistics\n",
    "\n",
    "@_is_list\n",
    "def data_range(l: List[Number]) -> Number:\n",
    "    \"\"\"Calculates the range of l\"\"\"\n",
    "    return max(l) - min(l)\n",
    "\n",
    "\n",
    "@_is_list\n",
    "def dev_mean(l: List[Number]) -> List[Number]:\n",
    "    \"\"\"Calculates the deviation from the mean\"\"\"\n",
    "    m = mean(l)\n",
    "    return list(map(lambda x: x - m, l))\n",
    "\n",
    "\n",
    "def variance(l: List[Number]) -> Number:\n",
    "    \"\"\"Calculates the variance of l\"\"\"\n",
    "    assert len(l) >= 2, \"Variance requires at least two elements in l\"\n",
    "    return sum(list(map(lambda x: x ** 2, dev_mean(l))))/(len(l) - 1)\n",
    "\n",
    "\n",
    "def std_dev(l: List[Number]) -> Number:\n",
    "    \"\"\"Calculates the standard deviation of l\"\"\"\n",
    "    return math.sqrt(variance(l))\n",
    "\n",
    "def iqr(l: List[Number]) -> Number:\n",
    "    \"\"\"Calculates the interquartile range of l\"\"\"\n",
    "    return quantile(l, 0.75) - quantile(l, 0.25)\n",
    "\n",
    "def z_score(l: List[Number]) -> Number:\n",
    "    \"\"\"Calculates the z-score of l\"\"\"\n",
    "    std = std_dev(l)\n",
    "    med = median(l)\n",
    "    return list(map(lambda x: (x - med)/std, l))"
   ]
  },
  {
   "cell_type": "markdown",
   "metadata": {},
   "source": []
  },
  {
   "cell_type": "code",
   "execution_count": 209,
   "metadata": {},
   "outputs": [
    {
     "ename": "ValueError",
     "evalue": "x and y must have same first dimension, but have shapes (500,) and (1,)",
     "output_type": "error",
     "traceback": [
      "\u001b[0;31m---------------------------------------------------------------------------\u001b[0m",
      "\u001b[0;31mValueError\u001b[0m                                Traceback (most recent call last)",
      "Cell \u001b[0;32mIn[209], line 6\u001b[0m\n\u001b[1;32m      4\u001b[0m fig, ax \u001b[39m=\u001b[39m plt\u001b[39m.\u001b[39msubplots(tight_layout\u001b[39m=\u001b[39m\u001b[39mTrue\u001b[39;00m)\n\u001b[1;32m      5\u001b[0m ax\u001b[39m.\u001b[39mset_xlabel(\u001b[39m'\u001b[39m\u001b[39mlmao\u001b[39m\u001b[39m'\u001b[39m)\n\u001b[0;32m----> 6\u001b[0m ax\u001b[39m.\u001b[39;49mplot(z_score(num_friends), \u001b[39m20\u001b[39;49m,\u001b[39m'\u001b[39;49m\u001b[39mro\u001b[39;49m\u001b[39m'\u001b[39;49m)\n\u001b[1;32m      7\u001b[0m fig\u001b[39m.\u001b[39mset_size_inches((\u001b[39m10\u001b[39m, \u001b[39m6\u001b[39m))\n\u001b[1;32m      8\u001b[0m plt\u001b[39m.\u001b[39mshow()\n",
      "File \u001b[0;32m~/Programming/ds_scratch/.venv/lib/python3.11/site-packages/matplotlib/axes/_axes.py:1688\u001b[0m, in \u001b[0;36mAxes.plot\u001b[0;34m(self, scalex, scaley, data, *args, **kwargs)\u001b[0m\n\u001b[1;32m   1445\u001b[0m \u001b[39m\u001b[39m\u001b[39m\"\"\"\u001b[39;00m\n\u001b[1;32m   1446\u001b[0m \u001b[39mPlot y versus x as lines and/or markers.\u001b[39;00m\n\u001b[1;32m   1447\u001b[0m \n\u001b[0;32m   (...)\u001b[0m\n\u001b[1;32m   1685\u001b[0m \u001b[39m(``'green'``) or hex strings (``'#008000'``).\u001b[39;00m\n\u001b[1;32m   1686\u001b[0m \u001b[39m\"\"\"\u001b[39;00m\n\u001b[1;32m   1687\u001b[0m kwargs \u001b[39m=\u001b[39m cbook\u001b[39m.\u001b[39mnormalize_kwargs(kwargs, mlines\u001b[39m.\u001b[39mLine2D)\n\u001b[0;32m-> 1688\u001b[0m lines \u001b[39m=\u001b[39m [\u001b[39m*\u001b[39m\u001b[39mself\u001b[39m\u001b[39m.\u001b[39m_get_lines(\u001b[39m*\u001b[39margs, data\u001b[39m=\u001b[39mdata, \u001b[39m*\u001b[39m\u001b[39m*\u001b[39mkwargs)]\n\u001b[1;32m   1689\u001b[0m \u001b[39mfor\u001b[39;00m line \u001b[39min\u001b[39;00m lines:\n\u001b[1;32m   1690\u001b[0m     \u001b[39mself\u001b[39m\u001b[39m.\u001b[39madd_line(line)\n",
      "File \u001b[0;32m~/Programming/ds_scratch/.venv/lib/python3.11/site-packages/matplotlib/axes/_base.py:311\u001b[0m, in \u001b[0;36m_process_plot_var_args.__call__\u001b[0;34m(self, data, *args, **kwargs)\u001b[0m\n\u001b[1;32m    309\u001b[0m     this \u001b[39m+\u001b[39m\u001b[39m=\u001b[39m args[\u001b[39m0\u001b[39m],\n\u001b[1;32m    310\u001b[0m     args \u001b[39m=\u001b[39m args[\u001b[39m1\u001b[39m:]\n\u001b[0;32m--> 311\u001b[0m \u001b[39myield from\u001b[39;00m \u001b[39mself\u001b[39;49m\u001b[39m.\u001b[39;49m_plot_args(\n\u001b[1;32m    312\u001b[0m     this, kwargs, ambiguous_fmt_datakey\u001b[39m=\u001b[39;49mambiguous_fmt_datakey)\n",
      "File \u001b[0;32m~/Programming/ds_scratch/.venv/lib/python3.11/site-packages/matplotlib/axes/_base.py:504\u001b[0m, in \u001b[0;36m_process_plot_var_args._plot_args\u001b[0;34m(self, tup, kwargs, return_kwargs, ambiguous_fmt_datakey)\u001b[0m\n\u001b[1;32m    501\u001b[0m     \u001b[39mself\u001b[39m\u001b[39m.\u001b[39maxes\u001b[39m.\u001b[39myaxis\u001b[39m.\u001b[39mupdate_units(y)\n\u001b[1;32m    503\u001b[0m \u001b[39mif\u001b[39;00m x\u001b[39m.\u001b[39mshape[\u001b[39m0\u001b[39m] \u001b[39m!=\u001b[39m y\u001b[39m.\u001b[39mshape[\u001b[39m0\u001b[39m]:\n\u001b[0;32m--> 504\u001b[0m     \u001b[39mraise\u001b[39;00m \u001b[39mValueError\u001b[39;00m(\u001b[39mf\u001b[39m\u001b[39m\"\u001b[39m\u001b[39mx and y must have same first dimension, but \u001b[39m\u001b[39m\"\u001b[39m\n\u001b[1;32m    505\u001b[0m                      \u001b[39mf\u001b[39m\u001b[39m\"\u001b[39m\u001b[39mhave shapes \u001b[39m\u001b[39m{\u001b[39;00mx\u001b[39m.\u001b[39mshape\u001b[39m}\u001b[39;00m\u001b[39m and \u001b[39m\u001b[39m{\u001b[39;00my\u001b[39m.\u001b[39mshape\u001b[39m}\u001b[39;00m\u001b[39m\"\u001b[39m)\n\u001b[1;32m    506\u001b[0m \u001b[39mif\u001b[39;00m x\u001b[39m.\u001b[39mndim \u001b[39m>\u001b[39m \u001b[39m2\u001b[39m \u001b[39mor\u001b[39;00m y\u001b[39m.\u001b[39mndim \u001b[39m>\u001b[39m \u001b[39m2\u001b[39m:\n\u001b[1;32m    507\u001b[0m     \u001b[39mraise\u001b[39;00m \u001b[39mValueError\u001b[39;00m(\u001b[39mf\u001b[39m\u001b[39m\"\u001b[39m\u001b[39mx and y can be no greater than 2D, but have \u001b[39m\u001b[39m\"\u001b[39m\n\u001b[1;32m    508\u001b[0m                      \u001b[39mf\u001b[39m\u001b[39m\"\u001b[39m\u001b[39mshapes \u001b[39m\u001b[39m{\u001b[39;00mx\u001b[39m.\u001b[39mshape\u001b[39m}\u001b[39;00m\u001b[39m and \u001b[39m\u001b[39m{\u001b[39;00my\u001b[39m.\u001b[39mshape\u001b[39m}\u001b[39;00m\u001b[39m\"\u001b[39m)\n",
      "\u001b[0;31mValueError\u001b[0m: x and y must have same first dimension, but have shapes (500,) and (1,)"
     ]
    },
    {
     "data": {
      "image/png": "[encoded data removed]",
      "text/plain": [
       "<Figure size 640x480 with 1 Axes>"
      ]
     },
     "metadata": {},
     "output_type": "display_data"
    }
   ],
   "source": [
    "# Calculating the quantile of the ref. dataset and plotting a Q-Q-Plot graph\n",
    "\n",
    "\n",
    "# fig, ax = plt.subplots(tight_layout=True)\n",
    "# ax.set_xlabel('lmao')\n",
    "# ax.plot(z_score(num_friends), ,'ro')\n",
    "# fig.set_size_inches((10, 6))\n",
    "# plt.show()"
   ]
  }
 ],
 "metadata": {
  "kernelspec": {
   "display_name": ".venv",
   "language": "python",
   "name": "python3"
  },
  "language_info": {
   "codemirror_mode": {
    "name": "ipython",
    "version": 3
   },
   "file_extension": ".py",
   "mimetype": "text/x-python",
   "name": "python",
   "nbconvert_exporter": "python",
   "pygments_lexer": "ipython3",
   "version": "3.11.3"
  },
  "orig_nbformat": 4
 },
 "nbformat": 4,
 "nbformat_minor": 2
}
