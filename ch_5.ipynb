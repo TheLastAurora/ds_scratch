{
 "cells": [
  {
   "attachments": {},
   "cell_type": "markdown",
   "metadata": {},
   "source": [
    "# <b> Chapter 5"
   ]
  },
  {
   "cell_type": "code",
   "execution_count": 39,
   "metadata": {},
   "outputs": [],
   "source": [
    "from time import perf_counter\n",
    "from collections import Counter\n",
    "from numbers import Number\n",
    "from typing import List\n",
    "import random\n",
    "import numpy as np\n",
    "import matplotlib.pyplot as plt\n",
    "import matplotlib\n",
    "\n",
    "random.seed(4)"
   ]
  },
  {
   "attachments": {},
   "cell_type": "markdown",
   "metadata": {},
   "source": [
    "## Describing a Single Set of Data"
   ]
  },
  {
   "cell_type": "code",
   "execution_count": 40,
   "metadata": {},
   "outputs": [],
   "source": [
    "# List of people with random number of friends\n",
    "\n",
    "sample_size = 500\n",
    "num_friends = np.array([random.randint(0, 20) for _ in range(sample_size)], dtype=np.int32)"
   ]
  },
  {
   "cell_type": "code",
   "execution_count": 41,
   "metadata": {},
   "outputs": [
    {
     "data": {
      "image/png": "[encoded data removed]",
      "text/plain": [
       "<Figure size 640x480 with 1 Axes>"
      ]
     },
     "metadata": {},
     "output_type": "display_data"
    }
   ],
   "source": [
    "dist = Counter(num_friends)\n",
    "\n",
    "fig, ax = plt.subplots(tight_layout=True)\n",
    "ax.bar(dist.keys(), dist.values())\n",
    "ax.set_ylabel('People')\n",
    "ax.set_xlabel('Quantity of friends')\n",
    "plt.title(\"Distribution of number of friends\")\n",
    "plt.show()"
   ]
  },
  {
   "attachments": {},
   "cell_type": "markdown",
   "metadata": {},
   "source": [
    "## Central Tendencies"
   ]
  },
  {
   "cell_type": "code",
   "execution_count": 80,
   "metadata": {},
   "outputs": [
    {
     "data": {
      "text/plain": [
       "2.0"
      ]
     },
     "execution_count": 80,
     "metadata": {},
     "output_type": "execute_result"
    }
   ],
   "source": [
    "# Defining basic statistics\n",
    "\n",
    "\n",
    "def _is_list(fn) -> TypeError | None:\n",
    "    def inner(l, *args, **kwargs):\n",
    "        \"\"\"Checks if l is a list\"\"\"\n",
    "        if all(list(map(lambda x: isinstance(x, Number), l))):\n",
    "            return fn(l, *args, **kwargs)\n",
    "        raise TypeError(\"Argument is not of type List.\")\n",
    "    return inner\n",
    "\n",
    "\n",
    "@_is_list\n",
    "def mean(l: List[Number]) -> Number:\n",
    "    \"\"\"Calculates the mean of a l\"\"\"\n",
    "    return sum(l) / len(l)\n",
    "\n",
    "@_is_list\n",
    "def median(l: List[Number]) -> Number:\n",
    "    \"\"\"Calculates the median of a l\"\"\"\n",
    "    l = sorted(l)\n",
    "    l_median = lambda a, b: (a + b) / 2\n",
    "    if len(l) % 2 == 0:\n",
    "        return l_median(l[int(len(l)/2)-1], l[(int(len(l)/2))])\n",
    "    return l[int(len(l)/2)]\n",
    "\n",
    "@_is_list\n",
    "def quantile(l: List[Number], p: Number) -> Number:\n",
    "    \"\"\"Calculates the 'pth' percentile value in l\"\"\"\n",
    "    assert _is_list(l)\n",
    "\n",
    "mean([1, 2, 3])"
   ]
  }
 ],
 "metadata": {
  "kernelspec": {
   "display_name": ".venv",
   "language": "python",
   "name": "python3"
  },
  "language_info": {
   "codemirror_mode": {
    "name": "ipython",
    "version": 3
   },
   "file_extension": ".py",
   "mimetype": "text/x-python",
   "name": "python",
   "nbconvert_exporter": "python",
   "pygments_lexer": "ipython3",
   "version": "3.11.4"
  },
  "orig_nbformat": 4
 },
 "nbformat": 4,
 "nbformat_minor": 2
}
