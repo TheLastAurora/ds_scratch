{
 "cells": [
  {
   "cell_type": "markdown",
   "metadata": {},
   "source": [
    "# <b> Chapter 6"
   ]
  },
  {
   "cell_type": "code",
   "execution_count": 45,
   "metadata": {},
   "outputs": [],
   "source": [
    "import enum\n",
    "import random\n",
    "\n",
    "TIMES = 10_000\n",
    "random.seed(23)"
   ]
  },
  {
   "cell_type": "code",
   "execution_count": 46,
   "metadata": {},
   "outputs": [],
   "source": [
    "def rounder(val=2):\n",
    "    def outer(fn):\n",
    "        def inner(*args, **kwargs):\n",
    "            res = fn(*args, **kwargs)\n",
    "            return round(res, val)\n",
    "        return inner\n",
    "    return outer"
   ]
  },
  {
   "cell_type": "markdown",
   "metadata": {},
   "source": [
    "## Conditional Probability"
   ]
  },
  {
   "cell_type": "code",
   "execution_count": 48,
   "metadata": {},
   "outputs": [
    {
     "name": "stdout",
     "output_type": "stream",
     "text": [
      "P(B) = 0.25\n",
      "P(G) = 0.25\n",
      "P(G, B) = 0.5\n",
      "P(B | L) = 0.5\n",
      "P(B | G) = 0.34\n"
     ]
    }
   ],
   "source": [
    "# Calculating the probablity of children genders\n",
    "\n",
    "# No girls -> 1/2 * 1/2 = 1/4\n",
    "# Two girls -> 1/2 * 1/2 = 1/4. Same as above.\n",
    "# One girl, one boy (vice-versa) -> 1/2 * 1/2 + 1/2 * 1/2 = 1/2.\n",
    "# Both children are girls, given that at least one of them is a girl (conditional). 1/2 or 1/3 (two scenarios)\n",
    "\n",
    "\n",
    "class Child(enum.IntEnum):\n",
    "    BOY = 0\n",
    "    GIRL = 1\n",
    "\n",
    "\n",
    "def rand_child() -> Child:\n",
    "    return random.choice([Child.BOY, Child.GIRL])\n",
    "\n",
    "\n",
    "# The first has to be a boy as well as the second one\n",
    "@rounder()\n",
    "def no_girls() -> float:\n",
    "    boy = 0\n",
    "    girl = 0\n",
    "    for _ in range(TIMES):\n",
    "        if rand_child() == Child.BOY:\n",
    "            boy += 1\n",
    "        else:\n",
    "            girl += 1\n",
    "    # Probability of a boy given all scenarios.\n",
    "    first_child = (boy / (boy + girl))\n",
    "    return first_child * first_child  # Independent events\n",
    "\n",
    "\n",
    "# Same as above\n",
    "@rounder()\n",
    "def two_girls() -> float:\n",
    "    boy = 0\n",
    "    girl = 0\n",
    "    for _ in range(TIMES):\n",
    "        if rand_child() == Child.BOY:\n",
    "            boy += 1\n",
    "        else:\n",
    "            girl += 1\n",
    "    # Probability of a boy given all scenarios.\n",
    "    first_child = (girl / (boy + girl))\n",
    "    return first_child * first_child  # Independent events\n",
    "\n",
    "\n",
    "# The first can either be a girl or a boy (1/2*1/2), but the second must be a boy or a girl in that order.\n",
    "@rounder()\n",
    "def girl_boy() -> float:\n",
    "    boy = 0\n",
    "    girl = 0\n",
    "    for _ in range(TIMES):\n",
    "        first_child = rand_child()\n",
    "        second_child = rand_child()\n",
    "        if first_child == Child.BOY:\n",
    "            boy += 1\n",
    "            if second_child == Child.GIRL:\n",
    "                girl += 1\n",
    "        if first_child == Child.GIRL:\n",
    "            girl += 1\n",
    "            if second_child == Child.BOY:\n",
    "                boy += 1\n",
    "\n",
    "    boy_girl = (boy / (boy+girl)) * (girl / (boy + girl))  # Boy and girl\n",
    "    girl_boy = (girl / (boy + girl)) * (boy / (boy+girl))  # Girl and boy\n",
    "    return boy_girl + girl_boy\n",
    "\n",
    "@rounder()\n",
    "def girl_girl(mol=0) -> float:\n",
    "    both_girls = 0\n",
    "    older_girl = 0\n",
    "    either_girl = 0\n",
    "    for _ in range(TIMES):\n",
    "        first_child = rand_child()\n",
    "        second_child = rand_child()\n",
    "        if first_child == Child.GIRL:\n",
    "            older_girl += 1\n",
    "        if first_child == Child.GIRL and second_child == Child.GIRL:\n",
    "            both_girls += 1\n",
    "        if first_child == Child.GIRL or second_child == Child.GIRL:\n",
    "            either_girl += 1\n",
    "    match mol:\n",
    "        case 0: return both_girls / older_girl\n",
    "        case 1: return  both_girls / either_girl\n",
    "\n",
    "\n",
    "print(f'P(B) = {no_girls()}\\nP(G) = {two_girls()}\\nP(G, B) = {girl_boy()}\\nP(B | L) = {girl_girl(0)}\\nP(B | G) = {girl_girl(1)}')"
   ]
  }
 ],
 "metadata": {
  "kernelspec": {
   "display_name": ".venv",
   "language": "python",
   "name": "python3"
  },
  "language_info": {
   "codemirror_mode": {
    "name": "ipython",
    "version": 3
   },
   "file_extension": ".py",
   "mimetype": "text/x-python",
   "name": "python",
   "nbconvert_exporter": "python",
   "pygments_lexer": "ipython3",
   "version": "3.11.3"
  },
  "orig_nbformat": 4
 },
 "nbformat": 4,
 "nbformat_minor": 2
}
