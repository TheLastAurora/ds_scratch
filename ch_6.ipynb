{
 "cells": [
  {
   "attachments": {},
   "cell_type": "markdown",
   "metadata": {},
   "source": [
    "# <b> Chapter 6"
   ]
  },
  {
   "cell_type": "code",
   "execution_count": 87,
   "metadata": {},
   "outputs": [],
   "source": [
    "from decimal import Decimal, getcontext\n",
    "import matplotlib\n",
    "import matplotlib.pyplot as plt\n",
    "import enum\n",
    "import random\n",
    "\n",
    "TIMES = 10_000\n",
    "random.seed(23)\n",
    "getcontext().prec = 4"
   ]
  },
  {
   "cell_type": "code",
   "execution_count": 88,
   "metadata": {},
   "outputs": [],
   "source": [
    "def rounder(val=2):\n",
    "    def outer(fn):\n",
    "        def inner(*args, **kwargs):\n",
    "            res = fn(*args, **kwargs)\n",
    "            return round(res, val)\n",
    "        return inner\n",
    "    return outer"
   ]
  },
  {
   "attachments": {},
   "cell_type": "markdown",
   "metadata": {},
   "source": [
    "## Conditional Probability"
   ]
  },
  {
   "cell_type": "code",
   "execution_count": 89,
   "metadata": {},
   "outputs": [
    {
     "name": "stdout",
     "output_type": "stream",
     "text": [
      "P(B) = 0.26\n",
      "P(G) = 0.24\n",
      "P(G,B) = 0.5\n",
      "P(B|L) = 0.51\n",
      "P(B|G) = 0.33\n"
     ]
    }
   ],
   "source": [
    "# Calculating the probablity of children genders\n",
    "\n",
    "# No girls -> 1/2 * 1/2 = 1/4\n",
    "# Two girls -> 1/2 * 1/2 = 1/4. Same as above.\n",
    "# One girl, one boy (vice-versa) -> 1/2 * 1/2 + 1/2 * 1/2 = 1/2.\n",
    "# Both children are girls, given that at least one of them is a girl (conditional). 1/2 or 1/3 (two scenarios)\n",
    "\n",
    "\n",
    "class Child(enum.IntEnum):\n",
    "    BOY = 0\n",
    "    GIRL = 1\n",
    "\n",
    "\n",
    "def rand_child() -> Child:\n",
    "    return random.choice([Child.BOY, Child.GIRL])\n",
    "\n",
    "\n",
    "# The first has to be a boy as well as the second one\n",
    "@rounder()\n",
    "def no_girls() -> float:\n",
    "    boy = 0\n",
    "    girl = 0\n",
    "    for _ in range(TIMES):\n",
    "        if rand_child() == Child.BOY:\n",
    "            boy += 1\n",
    "        else:\n",
    "            girl += 1\n",
    "    # Probability of a boy given all scenarios.\n",
    "    first_child = (boy / (boy + girl))\n",
    "    return first_child * first_child  # Independent events\n",
    "\n",
    "\n",
    "# Same as above\n",
    "@rounder()\n",
    "def two_girls() -> float:\n",
    "    boy = 0\n",
    "    girl = 0\n",
    "    for _ in range(TIMES):\n",
    "        if rand_child() == Child.BOY:\n",
    "            boy += 1\n",
    "        else:\n",
    "            girl += 1\n",
    "    # Probability of a boy given all scenarios.\n",
    "    first_child = (girl / (boy + girl))\n",
    "    return first_child * first_child  # Independent events\n",
    "\n",
    "\n",
    "# The first can either be a girl or a boy (1/2*1/2), but the second must be a boy or a girl in that order.\n",
    "@rounder()\n",
    "def girl_boy() -> float:\n",
    "    boy = 0\n",
    "    girl = 0\n",
    "    for _ in range(TIMES):\n",
    "        first_child = rand_child()\n",
    "        second_child = rand_child()\n",
    "        if first_child == Child.BOY:\n",
    "            boy += 1\n",
    "            if second_child == Child.GIRL:\n",
    "                girl += 1\n",
    "        if first_child == Child.GIRL:\n",
    "            girl += 1\n",
    "            if second_child == Child.BOY:\n",
    "                boy += 1\n",
    "\n",
    "    boy_girl = (boy / (boy+girl)) * (girl / (boy + girl))  # Boy and girl\n",
    "    girl_boy = (girl / (boy + girl)) * (boy / (boy+girl))  # Girl and boy\n",
    "    return boy_girl + girl_boy\n",
    "\n",
    "@rounder()\n",
    "def girl_girl(mol=0) -> float:\n",
    "    both_girls = 0\n",
    "    older_girl = 0\n",
    "    either_girl = 0\n",
    "    for _ in range(TIMES):\n",
    "        first_child = rand_child()\n",
    "        second_child = rand_child()\n",
    "        if first_child == Child.GIRL:\n",
    "            older_girl += 1\n",
    "        if first_child == Child.GIRL and second_child == Child.GIRL:\n",
    "            both_girls += 1\n",
    "        if first_child == Child.GIRL or second_child == Child.GIRL:\n",
    "            either_girl += 1\n",
    "    match mol:\n",
    "        case 0: return both_girls / older_girl\n",
    "        case 1: return  both_girls / either_girl\n",
    "\n",
    "\n",
    "print(f'P(B) = {no_girls()}\\nP(G) = {two_girls()}\\nP(G,B) = {girl_boy()}\\nP(B|L) = {girl_girl(0)}\\nP(B|G) = {girl_girl(1)}')"
   ]
  },
  {
   "attachments": {},
   "cell_type": "markdown",
   "metadata": {},
   "source": [
    "## Bayes’s Theorem"
   ]
  },
  {
   "attachments": {},
   "cell_type": "markdown",
   "metadata": {},
   "source": [
    "\\begin{gather*}\n",
    "P(A\\vert B) = \\frac{{P(B\\vert A) \\cdot P(A)}}{{P(B)}}\n",
    "\\end{gather*}\n",
    "\n",
    "\\begin{gather*}\n",
    "or\n",
    "\\end{gather*}\n",
    "\n",
    "\\begin{gather*}\n",
    "P(A\\vert B) = \\frac{{P(B\\vert A) \\cdot P(B)}}{{(P(B\\vert A) \\cdot P(B)) + (P(B\\vert ¬A) \\cdot P(¬B))}}\n",
    "\\end{gather*}"
   ]
  },
  {
   "attachments": {},
   "cell_type": "markdown",
   "metadata": {},
   "source": [
    "Given a disease and a test that:\n",
    "<ul>\n",
    "<li>\n",
    "Affects 1 for every 10.000 people\n",
    "</li>\n",
    "<li>\n",
    "Has 98% of sensitivity (correctly identify those with the disease)\n",
    "</li>\n",
    "</ul>\n",
    "\n",
    "<b> What is the probability that one that tested positive have a disease?  "
   ]
  },
  {
   "cell_type": "code",
   "execution_count": 90,
   "metadata": {},
   "outputs": [
    {
     "name": "stdout",
     "output_type": "stream",
     "text": [
      "P(D|T): 0.004876\n",
      "That is, 99,952% of the positive tests are false positives\n",
      "(Test errors are relatively common - one in 100 - compared with cases of the disease).\n"
     ]
    }
   ],
   "source": [
    "def p_dt() -> float:\n",
    "    \"\"\"Calculates the probability that one that tested positive have a disease\"\"\"\n",
    "    p_d = Decimal('1') / Decimal('10_000')\n",
    "    p_notd = Decimal('1') - p_d \n",
    "    p_td = Decimal('0.98')\n",
    "    p_tnotd = Decimal('1') - p_td\n",
    "    return p_td * p_d / ((p_td * p_d) + (p_tnotd * p_notd))\n",
    "    \n",
    "\n",
    "print(f'P(D|T): {p_dt()}\\nThat is, 99,952% of the positive tests are false positives\\n(Test errors are relatively common - one in 100 - compared with cases of the disease).') "
   ]
  },
  {
   "attachments": {},
   "cell_type": "markdown",
   "metadata": {},
   "source": [
    "## Continuous Distribution"
   ]
  },
  {
   "cell_type": "markdown",
   "metadata": {},
   "source": [
    "### In Uniform Distributions we have:\n",
    "\n",
    "#### - Probability Density Function (PDF):\n",
    "\n",
    "$$\n",
    "\\begin{gather*}\n",
    "{\\displaystyle f(x)={\\begin{cases}{\\frac {1}{b-a}}&{\\text{for }}a\\leq x\\leq b,\\\\[8pt]0&{\\text{for }}x<a\\ {\\text{ or }}\\ x>b.\\end{cases}}}\n",
    "\\end{gather*}\n",
    "$$\n",
    "\n"
   ]
  },
  {
   "cell_type": "code",
   "execution_count": 157,
   "metadata": {},
   "outputs": [
    {
     "data": {
      "image/png": "[encoded data removed]",
      "text/plain": [
       "<Figure size 640x480 with 1 Axes>"
      ]
     },
     "metadata": {},
     "output_type": "display_data"
    }
   ],
   "source": [
    "# Plotting the graph\n",
    "\n",
    "x = [\"0\", \"a\", \"a\", \"b\", \"b\", \"x\"]\n",
    "y = [\"0\", \"0\", r\"$\\dfrac{1}{b-a}$\",  r\"$\\dfrac{1}{b-a}$\", \"0\", \"0\"]\n",
    "ax = plt.subplot()\n",
    "ax.plot(x, y, linewidth=3)\n",
    "ticklabelpad = matplotlib.rcParams['xtick.major.pad']\n",
    "ax.annotate('f(x)', xy=(-0.1,1), xytext=(8, -ticklabelpad), ha='left', va='top',\n",
    "            xycoords='axes fraction', textcoords='offset points')\n",
    "plt.ylim(top=1.5, bottom=0)\n",
    "plt.tight_layout(h_pad=-20)\n",
    "plt.show()"
   ]
  },
  {
   "cell_type": "markdown",
   "metadata": {},
   "source": [
    "#### - Cumulative Distribution Function:\n",
    "\n",
    "$$\n",
    "\\begin{gather*}\n",
    "{\\displaystyle F(x)={\\begin{cases}0&{\\text{for }}x<a,\\\\[8pt]{\\frac {x-a}{b-a}}&{\\text{for }}a\\leq x\\leq b,\\\\[8pt]1&{\\text{for }}x>b.\\end{cases}}}\n",
    "\\end{gather*}\n",
    "$$"
   ]
  },
  {
   "cell_type": "code",
   "execution_count": 174,
   "metadata": {},
   "outputs": [
    {
     "data": {
      "image/png": "[encoded data removed]",
      "text/plain": [
       "<Figure size 640x480 with 1 Axes>"
      ]
     },
     "metadata": {},
     "output_type": "display_data"
    }
   ],
   "source": [
    "x = [\"0\", \"a\", \"b\", \"x\"]\n",
    "y = [\"0\", \"0\", \"1\", \"1\"]\n",
    "ax = plt.subplot()\n",
    "ax.plot(x, y, linewidth=3)\n",
    "ticklabelpad = matplotlib.rcParams['xtick.major.pad']\n",
    "ax.annotate('F(x)', xy=(-0.1,1), xytext=(8, -ticklabelpad), ha='left', va='top',\n",
    "            xycoords='axes fraction', textcoords='offset points')\n",
    "plt.ylim(top=1, bottom=0)\n",
    "plt.tight_layout(h_pad=-20)\n",
    "plt.show()"
   ]
  }
 ],
 "metadata": {
  "kernelspec": {
   "display_name": ".venv",
   "language": "python",
   "name": "python3"
  },
  "language_info": {
   "codemirror_mode": {
    "name": "ipython",
    "version": 3
   },
   "file_extension": ".py",
   "mimetype": "text/x-python",
   "name": "python",
   "nbconvert_exporter": "python",
   "pygments_lexer": "ipython3",
   "version": "3.11.3"
  },
  "orig_nbformat": 4
 },
 "nbformat": 4,
 "nbformat_minor": 2
}
