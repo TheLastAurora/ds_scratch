{
 "cells": [
  {
   "cell_type": "markdown",
   "metadata": {},
   "source": [
    "# <b> Chapter 7"
   ]
  },
  {
   "cell_type": "code",
   "execution_count": 20,
   "metadata": {},
   "outputs": [],
   "source": [
    "from typing import Tuple\n",
    "from statistics import NormalDist\n",
    "import statistics\n",
    "import math"
   ]
  },
  {
   "cell_type": "markdown",
   "metadata": {},
   "source": [
    "## Statistical Hypothesis Testing"
   ]
  },
  {
   "cell_type": "markdown",
   "metadata": {},
   "source": [
    "#### ⭐ Example:"
   ]
  },
  {
   "cell_type": "markdown",
   "metadata": {},
   "source": [
    "The following example is that of flipping a coin"
   ]
  },
  {
   "cell_type": "code",
   "execution_count": 24,
   "metadata": {},
   "outputs": [],
   "source": [
    "def norm_binomal(p: float, n: int) -> Tuple[float, float]:\n",
    "    \"\"\"Approximates binomial random variable with probability p from n times, returning its median and std.\"\"\"\n",
    "    mu = n * p\n",
    "    sigma = math.sqrt(mu * (1 - p))\n",
    "    return mu, sigma\n",
    "\n",
    "def prob_below(x: float , mu: float, sigma: float) -> float:\n",
    "    \"Calculates the probability of a normallized x be under the threshold\"\n",
    "    return NormalDist(mu, sigma).cdf(x)\n",
    "\n",
    "def prob_above(lo: float, mu: float, sigma: float) -> float:\n",
    "    \"Calculates the probability of a normallized x be greater than lo\"\n",
    "    return 1 - NormalDist(mu, sigma).cdf(lo)\n",
    "\n",
    "def prob_between(lo: float, hi: float, mu: float, sigma: float) -> float:\n",
    "    \"Calculates the probability of a normallized x be between the range lo, hi\"\n",
    "    return NormalDist(mu, sigma).cdf(hi) - NormalDist(mu, sigma).cdf(lo)\n",
    "\n",
    "def prob_outside(lo: float, hi: float, mu: float, sigma: float) -> float:\n",
    "    \"Calculates the probability of a normallized x be outside the scope lo, hi\"\n",
    "    return 1 - prob_between(lo, hi, mu, sigma)"
   ]
  }
 ],
 "metadata": {
  "kernelspec": {
   "display_name": ".venv",
   "language": "python",
   "name": "python3"
  },
  "language_info": {
   "codemirror_mode": {
    "name": "ipython",
    "version": 3
   },
   "file_extension": ".py",
   "mimetype": "text/x-python",
   "name": "python",
   "nbconvert_exporter": "python",
   "pygments_lexer": "ipython3",
   "version": "3.11.3"
  },
  "orig_nbformat": 4
 },
 "nbformat": 4,
 "nbformat_minor": 2
}
