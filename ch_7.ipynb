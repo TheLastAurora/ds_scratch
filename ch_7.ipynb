{
 "cells": [
  {
   "cell_type": "markdown",
   "metadata": {},
   "source": [
    "# <b> Chapter 7"
   ]
  },
  {
   "cell_type": "code",
   "execution_count": 23,
   "metadata": {},
   "outputs": [
    {
     "data": {
      "text/plain": [
       "1.4434615384615388"
      ]
     },
     "execution_count": 23,
     "metadata": {},
     "output_type": "execute_result"
    }
   ],
   "source": [
    "# Amostras de cálcio no solo\n",
    "\n",
    "ca = [0.37, 0.09, 0.87, 0.48, 0.11, 0.04, 0.06, 0.05, 0.34, 0.13, 0.11, 0.12, 1.43, 0.34, 0.32, 0.06, 6.9, 4.7, 6.63, 0.43, 8.56, 1.77, 2.18, 0.11, 1.27, 0.06]"
   ]
  }
 ],
 "metadata": {
  "kernelspec": {
   "display_name": ".venv",
   "language": "python",
   "name": "python3"
  },
  "language_info": {
   "codemirror_mode": {
    "name": "ipython",
    "version": 3
   },
   "file_extension": ".py",
   "mimetype": "text/x-python",
   "name": "python",
   "nbconvert_exporter": "python",
   "pygments_lexer": "ipython3",
   "version": "3.11.3"
  },
  "orig_nbformat": 4
 },
 "nbformat": 4,
 "nbformat_minor": 2
}
