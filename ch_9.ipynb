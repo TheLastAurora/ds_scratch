{
 "cells": [
  {
   "attachments": {},
   "cell_type": "markdown",
   "metadata": {},
   "source": [
    "# <b> Chapter 9"
   ]
  },
  {
   "attachments": {},
   "cell_type": "markdown",
   "metadata": {},
   "source": [
    "### For some of the next chapters, I'll be using the public Data on the Revenue of the Brazilian State of Goiás"
   ]
  },
  {
   "cell_type": "code",
   "execution_count": 32,
   "metadata": {},
   "outputs": [],
   "source": [
    "from datetime import datetime\n",
    "import pandas as pd\n",
    "import pytz\n",
    "import os\n",
    "import re"
   ]
  },
  {
   "attachments": {},
   "cell_type": "markdown",
   "metadata": {},
   "source": [
    "## Getting the Data"
   ]
  },
  {
   "cell_type": "code",
   "execution_count": 33,
   "metadata": {},
   "outputs": [],
   "source": [
    "# Loading the data\n",
    "\n",
    "root = os.getcwd()\n",
    "paths = [\n",
    "    root + \"\\\\\" + file\n",
    "    for file in os.listdir()\n",
    "    if re.match(\"ReceitasDetalhadas.*.csv\", file)\n",
    "]\n",
    "if paths:\n",
    "    df = pd.DataFrame()\n",
    "    for i, path in enumerate(paths):\n",
    "        with open(path, \"r\", encoding=\"utf-8\") as f:\n",
    "            data = pd.read_csv(f, index_col=False)\n",
    "            df = pd.concat([df, data])\n",
    "    df.columns\n",
    "\n",
    "    # Formatting the dates\n",
    "\n",
    "    t = [\"int32\" if re.match(\"(COD.*|RECEITA.*)\", c) else \"string\" for c in df.columns]\n",
    "    df = df.astype({k: v for k, v in zip([*df.columns], t)})\n",
    "    df[\"MES\"] = df[\"MES\"].map(\n",
    "        {\n",
    "            \"Janeiro\": \"01\",\n",
    "            \"Fevereiro\": \"02\",\n",
    "            \"Março\": \"03\",\n",
    "            \"Abril\": \"04\",\n",
    "            \"Maio\": \"05\",\n",
    "            \"Junho\": \"06\",\n",
    "            \"Julho\": \"07\",\n",
    "            \"Agosto\": \"08\",\n",
    "            \"Setembro\": \"09\",\n",
    "            \"Outubro\": \"10\",\n",
    "            \"Novembro\": \"11\",\n",
    "            \"Dezembro\": \"12\",\n",
    "        }\n",
    "    )\n",
    "    date_parser = (\n",
    "        lambda x: pytz.timezone(\"America/Sao_Paulo\")\n",
    "        .localize(datetime.strptime(x, \"%Y/%m\"))\n",
    "        .isoformat()\n",
    "    )\n",
    "    df[\"DATA\"] = df[\"ANO\"] + \"/\" + df[\"MES\"]\n",
    "    df[\"DATA\"] = pd.to_datetime(df[\"DATA\"].map(date_parser))\n",
    "    df = df.drop(columns=[\"ANO\", \"MES\", \"ANO_MES\"], axis=1)\n",
    "    df.to_csv(f\"{root}\\\\ReceitasGoias2022\", sep=\";\", index=False)"
   ]
  }
 ],
 "metadata": {
  "kernelspec": {
   "display_name": ".venv",
   "language": "python",
   "name": "python3"
  },
  "language_info": {
   "codemirror_mode": {
    "name": "ipython",
    "version": 3
   },
   "file_extension": ".py",
   "mimetype": "text/x-python",
   "name": "python",
   "nbconvert_exporter": "python",
   "pygments_lexer": "ipython3",
   "version": "3.11.4"
  },
  "orig_nbformat": 4
 },
 "nbformat": 4,
 "nbformat_minor": 2
}
